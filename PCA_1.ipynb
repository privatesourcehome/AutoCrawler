{
 "cells": [
  {
   "cell_type": "code",
   "execution_count": 2,
   "metadata": {},
   "outputs": [
    {
     "data": {
      "text/html": [
       "<div>\n",
       "<style scoped>\n",
       "    .dataframe tbody tr th:only-of-type {\n",
       "        vertical-align: middle;\n",
       "    }\n",
       "\n",
       "    .dataframe tbody tr th {\n",
       "        vertical-align: top;\n",
       "    }\n",
       "\n",
       "    .dataframe thead th {\n",
       "        text-align: right;\n",
       "    }\n",
       "</style>\n",
       "<table border=\"1\" class=\"dataframe\">\n",
       "  <thead>\n",
       "    <tr style=\"text-align: right;\">\n",
       "      <th></th>\n",
       "      <th>F1</th>\n",
       "      <th>F2</th>\n",
       "      <th>F3</th>\n",
       "      <th>F4</th>\n",
       "      <th>F5</th>\n",
       "      <th>D1</th>\n",
       "      <th>D2</th>\n",
       "      <th>D3</th>\n",
       "      <th>D4</th>\n",
       "      <th>D5</th>\n",
       "      <th>D6</th>\n",
       "      <th>D7</th>\n",
       "      <th>D8</th>\n",
       "      <th>D9</th>\n",
       "      <th>D10</th>\n",
       "      <th>R1</th>\n",
       "    </tr>\n",
       "  </thead>\n",
       "  <tbody>\n",
       "    <tr>\n",
       "      <th>0</th>\n",
       "      <td>-0.92575</td>\n",
       "      <td>-0.34309</td>\n",
       "      <td>1</td>\n",
       "      <td>-1</td>\n",
       "      <td>-1</td>\n",
       "      <td>0.0</td>\n",
       "      <td>-0.77778</td>\n",
       "      <td>-0.333330</td>\n",
       "      <td>0.189970</td>\n",
       "      <td>-0.50</td>\n",
       "      <td>0.66667</td>\n",
       "      <td>-0.76822</td>\n",
       "      <td>-0.90476</td>\n",
       "      <td>-0.001805</td>\n",
       "      <td>-0.83019</td>\n",
       "      <td>1</td>\n",
       "    </tr>\n",
       "    <tr>\n",
       "      <th>1</th>\n",
       "      <td>-0.92575</td>\n",
       "      <td>-0.34309</td>\n",
       "      <td>1</td>\n",
       "      <td>-1</td>\n",
       "      <td>-1</td>\n",
       "      <td>-0.8</td>\n",
       "      <td>-0.77778</td>\n",
       "      <td>-0.333330</td>\n",
       "      <td>-1.000000</td>\n",
       "      <td>-0.75</td>\n",
       "      <td>-0.66667</td>\n",
       "      <td>-0.86023</td>\n",
       "      <td>-0.80952</td>\n",
       "      <td>-0.001805</td>\n",
       "      <td>-1.00000</td>\n",
       "      <td>1</td>\n",
       "    </tr>\n",
       "    <tr>\n",
       "      <th>2</th>\n",
       "      <td>-0.90100</td>\n",
       "      <td>-0.46830</td>\n",
       "      <td>1</td>\n",
       "      <td>-1</td>\n",
       "      <td>-1</td>\n",
       "      <td>-0.7</td>\n",
       "      <td>-0.55556</td>\n",
       "      <td>-0.057191</td>\n",
       "      <td>-0.349560</td>\n",
       "      <td>-0.50</td>\n",
       "      <td>-0.66667</td>\n",
       "      <td>-0.90117</td>\n",
       "      <td>-0.90476</td>\n",
       "      <td>-0.001805</td>\n",
       "      <td>-0.96226</td>\n",
       "      <td>1</td>\n",
       "    </tr>\n",
       "    <tr>\n",
       "      <th>3</th>\n",
       "      <td>-0.86940</td>\n",
       "      <td>-0.57487</td>\n",
       "      <td>-1</td>\n",
       "      <td>1</td>\n",
       "      <td>-1</td>\n",
       "      <td>-0.9</td>\n",
       "      <td>-0.77778</td>\n",
       "      <td>-0.333330</td>\n",
       "      <td>-0.719870</td>\n",
       "      <td>-0.75</td>\n",
       "      <td>-0.83333</td>\n",
       "      <td>-1.00000</td>\n",
       "      <td>-1.00000</td>\n",
       "      <td>-0.001805</td>\n",
       "      <td>-0.98113</td>\n",
       "      <td>1</td>\n",
       "    </tr>\n",
       "    <tr>\n",
       "      <th>4</th>\n",
       "      <td>-0.93839</td>\n",
       "      <td>-0.25525</td>\n",
       "      <td>1</td>\n",
       "      <td>-1</td>\n",
       "      <td>-1</td>\n",
       "      <td>-0.4</td>\n",
       "      <td>-0.55556</td>\n",
       "      <td>-0.057191</td>\n",
       "      <td>-0.030911</td>\n",
       "      <td>-0.50</td>\n",
       "      <td>-0.33333</td>\n",
       "      <td>-0.77900</td>\n",
       "      <td>-0.80952</td>\n",
       "      <td>-0.001805</td>\n",
       "      <td>-0.90566</td>\n",
       "      <td>1</td>\n",
       "    </tr>\n",
       "  </tbody>\n",
       "</table>\n",
       "</div>"
      ],
      "text/plain": [
       "        F1       F2  F3  F4  F5   D1       D2        D3        D4    D5  \\\n",
       "0 -0.92575 -0.34309   1  -1  -1  0.0 -0.77778 -0.333330  0.189970 -0.50   \n",
       "1 -0.92575 -0.34309   1  -1  -1 -0.8 -0.77778 -0.333330 -1.000000 -0.75   \n",
       "2 -0.90100 -0.46830   1  -1  -1 -0.7 -0.55556 -0.057191 -0.349560 -0.50   \n",
       "3 -0.86940 -0.57487  -1   1  -1 -0.9 -0.77778 -0.333330 -0.719870 -0.75   \n",
       "4 -0.93839 -0.25525   1  -1  -1 -0.4 -0.55556 -0.057191 -0.030911 -0.50   \n",
       "\n",
       "        D6       D7       D8        D9      D10  R1  \n",
       "0  0.66667 -0.76822 -0.90476 -0.001805 -0.83019   1  \n",
       "1 -0.66667 -0.86023 -0.80952 -0.001805 -1.00000   1  \n",
       "2 -0.66667 -0.90117 -0.90476 -0.001805 -0.96226   1  \n",
       "3 -0.83333 -1.00000 -1.00000 -0.001805 -0.98113   1  \n",
       "4 -0.33333 -0.77900 -0.80952 -0.001805 -0.90566   1  "
      ]
     },
     "execution_count": 2,
     "metadata": {},
     "output_type": "execute_result"
    }
   ],
   "source": [
    "import pandas as pd\n",
    "url = \"C:/1234/x_train_response.csv\"\n",
    "df = pd.read_csv(url, names=['F1','F2','F3','F4','F5','D1','D2','D3','D4','D5','D6','D7','D8','D9','D10','R1'])\n",
    "df.head()"
   ]
  },
  {
   "cell_type": "code",
   "execution_count": 2,
   "metadata": {},
   "outputs": [
    {
     "data": {
      "text/html": [
       "<div>\n",
       "<style scoped>\n",
       "    .dataframe tbody tr th:only-of-type {\n",
       "        vertical-align: middle;\n",
       "    }\n",
       "\n",
       "    .dataframe tbody tr th {\n",
       "        vertical-align: top;\n",
       "    }\n",
       "\n",
       "    .dataframe thead th {\n",
       "        text-align: right;\n",
       "    }\n",
       "</style>\n",
       "<table border=\"1\" class=\"dataframe\">\n",
       "  <thead>\n",
       "    <tr style=\"text-align: right;\">\n",
       "      <th></th>\n",
       "      <th>F1</th>\n",
       "      <th>F2</th>\n",
       "      <th>F3</th>\n",
       "      <th>F4</th>\n",
       "      <th>F5</th>\n",
       "      <th>D1</th>\n",
       "      <th>D2</th>\n",
       "      <th>D3</th>\n",
       "      <th>D4</th>\n",
       "      <th>D5</th>\n",
       "      <th>D6</th>\n",
       "      <th>D7</th>\n",
       "      <th>D8</th>\n",
       "      <th>D9</th>\n",
       "      <th>D10</th>\n",
       "    </tr>\n",
       "  </thead>\n",
       "  <tbody>\n",
       "    <tr>\n",
       "      <th>0</th>\n",
       "      <td>-0.92575</td>\n",
       "      <td>-0.34309</td>\n",
       "      <td>1.0</td>\n",
       "      <td>-1.0</td>\n",
       "      <td>-1.0</td>\n",
       "      <td>0.0</td>\n",
       "      <td>-0.77778</td>\n",
       "      <td>-0.333330</td>\n",
       "      <td>0.189970</td>\n",
       "      <td>-0.50</td>\n",
       "      <td>0.66667</td>\n",
       "      <td>-0.76822</td>\n",
       "      <td>-0.90476</td>\n",
       "      <td>-0.001805</td>\n",
       "      <td>-0.83019</td>\n",
       "    </tr>\n",
       "    <tr>\n",
       "      <th>1</th>\n",
       "      <td>-0.92575</td>\n",
       "      <td>-0.34309</td>\n",
       "      <td>1.0</td>\n",
       "      <td>-1.0</td>\n",
       "      <td>-1.0</td>\n",
       "      <td>-0.8</td>\n",
       "      <td>-0.77778</td>\n",
       "      <td>-0.333330</td>\n",
       "      <td>-1.000000</td>\n",
       "      <td>-0.75</td>\n",
       "      <td>-0.66667</td>\n",
       "      <td>-0.86023</td>\n",
       "      <td>-0.80952</td>\n",
       "      <td>-0.001805</td>\n",
       "      <td>-1.00000</td>\n",
       "    </tr>\n",
       "    <tr>\n",
       "      <th>2</th>\n",
       "      <td>-0.90100</td>\n",
       "      <td>-0.46830</td>\n",
       "      <td>1.0</td>\n",
       "      <td>-1.0</td>\n",
       "      <td>-1.0</td>\n",
       "      <td>-0.7</td>\n",
       "      <td>-0.55556</td>\n",
       "      <td>-0.057191</td>\n",
       "      <td>-0.349560</td>\n",
       "      <td>-0.50</td>\n",
       "      <td>-0.66667</td>\n",
       "      <td>-0.90117</td>\n",
       "      <td>-0.90476</td>\n",
       "      <td>-0.001805</td>\n",
       "      <td>-0.96226</td>\n",
       "    </tr>\n",
       "    <tr>\n",
       "      <th>3</th>\n",
       "      <td>-0.86940</td>\n",
       "      <td>-0.57487</td>\n",
       "      <td>-1.0</td>\n",
       "      <td>1.0</td>\n",
       "      <td>-1.0</td>\n",
       "      <td>-0.9</td>\n",
       "      <td>-0.77778</td>\n",
       "      <td>-0.333330</td>\n",
       "      <td>-0.719870</td>\n",
       "      <td>-0.75</td>\n",
       "      <td>-0.83333</td>\n",
       "      <td>-1.00000</td>\n",
       "      <td>-1.00000</td>\n",
       "      <td>-0.001805</td>\n",
       "      <td>-0.98113</td>\n",
       "    </tr>\n",
       "    <tr>\n",
       "      <th>4</th>\n",
       "      <td>-0.93839</td>\n",
       "      <td>-0.25525</td>\n",
       "      <td>1.0</td>\n",
       "      <td>-1.0</td>\n",
       "      <td>-1.0</td>\n",
       "      <td>-0.4</td>\n",
       "      <td>-0.55556</td>\n",
       "      <td>-0.057191</td>\n",
       "      <td>-0.030911</td>\n",
       "      <td>-0.50</td>\n",
       "      <td>-0.33333</td>\n",
       "      <td>-0.77900</td>\n",
       "      <td>-0.80952</td>\n",
       "      <td>-0.001805</td>\n",
       "      <td>-0.90566</td>\n",
       "    </tr>\n",
       "  </tbody>\n",
       "</table>\n",
       "</div>"
      ],
      "text/plain": [
       "        F1       F2   F3   F4   F5   D1       D2        D3        D4    D5  \\\n",
       "0 -0.92575 -0.34309  1.0 -1.0 -1.0  0.0 -0.77778 -0.333330  0.189970 -0.50   \n",
       "1 -0.92575 -0.34309  1.0 -1.0 -1.0 -0.8 -0.77778 -0.333330 -1.000000 -0.75   \n",
       "2 -0.90100 -0.46830  1.0 -1.0 -1.0 -0.7 -0.55556 -0.057191 -0.349560 -0.50   \n",
       "3 -0.86940 -0.57487 -1.0  1.0 -1.0 -0.9 -0.77778 -0.333330 -0.719870 -0.75   \n",
       "4 -0.93839 -0.25525  1.0 -1.0 -1.0 -0.4 -0.55556 -0.057191 -0.030911 -0.50   \n",
       "\n",
       "        D6       D7       D8        D9      D10  \n",
       "0  0.66667 -0.76822 -0.90476 -0.001805 -0.83019  \n",
       "1 -0.66667 -0.86023 -0.80952 -0.001805 -1.00000  \n",
       "2 -0.66667 -0.90117 -0.90476 -0.001805 -0.96226  \n",
       "3 -0.83333 -1.00000 -1.00000 -0.001805 -0.98113  \n",
       "4 -0.33333 -0.77900 -0.80952 -0.001805 -0.90566  "
      ]
     },
     "execution_count": 2,
     "metadata": {},
     "output_type": "execute_result"
    }
   ],
   "source": [
    "from sklearn.preprocessing import StandardScaler  # 표준화 패키지 라이브러리 \n",
    "y = df['R1'].values # 종속변인 추출\n",
    "x = df.drop(['R1'], axis=1).values # 독립변인들의 value값만 추출\n",
    "\n",
    "features = ['F1','F2','F3','F4','F5','D1','D2','D3','D4','D5','D6','D7','D8','D9','D10']\n",
    "pd.DataFrame(x, columns=features).head()"
   ]
  },
  {
   "cell_type": "code",
   "execution_count": 24,
   "metadata": {},
   "outputs": [],
   "source": [
    "from sklearn.decomposition import PCA\n",
    "pca = PCA(n_components=6) # 주성분을 몇개로 할지 결정\n",
    "printcipalComponents = pca.fit_transform(x)\n",
    "principalDf = pd.DataFrame(data=printcipalComponents, columns = ['PC1', 'PC2', 'PC3', 'PC4','PC5','PC6'])\n",
    "# 주성분으로 이루어진 데이터 프레임 구성"
   ]
  },
  {
   "cell_type": "code",
   "execution_count": 25,
   "metadata": {},
   "outputs": [
    {
     "data": {
      "text/html": [
       "<div>\n",
       "<style scoped>\n",
       "    .dataframe tbody tr th:only-of-type {\n",
       "        vertical-align: middle;\n",
       "    }\n",
       "\n",
       "    .dataframe tbody tr th {\n",
       "        vertical-align: top;\n",
       "    }\n",
       "\n",
       "    .dataframe thead th {\n",
       "        text-align: right;\n",
       "    }\n",
       "</style>\n",
       "<table border=\"1\" class=\"dataframe\">\n",
       "  <thead>\n",
       "    <tr style=\"text-align: right;\">\n",
       "      <th></th>\n",
       "      <th>PC1</th>\n",
       "      <th>PC2</th>\n",
       "      <th>PC3</th>\n",
       "      <th>PC4</th>\n",
       "      <th>PC5</th>\n",
       "      <th>PC6</th>\n",
       "    </tr>\n",
       "  </thead>\n",
       "  <tbody>\n",
       "    <tr>\n",
       "      <th>0</th>\n",
       "      <td>2.000999</td>\n",
       "      <td>-0.493902</td>\n",
       "      <td>0.423575</td>\n",
       "      <td>1.313542</td>\n",
       "      <td>0.341464</td>\n",
       "      <td>-0.278764</td>\n",
       "    </tr>\n",
       "    <tr>\n",
       "      <th>1</th>\n",
       "      <td>1.565895</td>\n",
       "      <td>-0.718734</td>\n",
       "      <td>0.063482</td>\n",
       "      <td>-0.406867</td>\n",
       "      <td>0.237898</td>\n",
       "      <td>-0.228048</td>\n",
       "    </tr>\n",
       "    <tr>\n",
       "      <th>2</th>\n",
       "      <td>1.758098</td>\n",
       "      <td>-0.528150</td>\n",
       "      <td>0.209430</td>\n",
       "      <td>-0.155319</td>\n",
       "      <td>0.653311</td>\n",
       "      <td>0.094598</td>\n",
       "    </tr>\n",
       "    <tr>\n",
       "      <th>3</th>\n",
       "      <td>0.226975</td>\n",
       "      <td>1.790326</td>\n",
       "      <td>0.306106</td>\n",
       "      <td>-0.489949</td>\n",
       "      <td>0.085710</td>\n",
       "      <td>-0.316453</td>\n",
       "    </tr>\n",
       "    <tr>\n",
       "      <th>4</th>\n",
       "      <td>1.939779</td>\n",
       "      <td>-0.475180</td>\n",
       "      <td>0.354901</td>\n",
       "      <td>0.351514</td>\n",
       "      <td>0.643559</td>\n",
       "      <td>0.038660</td>\n",
       "    </tr>\n",
       "  </tbody>\n",
       "</table>\n",
       "</div>"
      ],
      "text/plain": [
       "        PC1       PC2       PC3       PC4       PC5       PC6\n",
       "0  2.000999 -0.493902  0.423575  1.313542  0.341464 -0.278764\n",
       "1  1.565895 -0.718734  0.063482 -0.406867  0.237898 -0.228048\n",
       "2  1.758098 -0.528150  0.209430 -0.155319  0.653311  0.094598\n",
       "3  0.226975  1.790326  0.306106 -0.489949  0.085710 -0.316453\n",
       "4  1.939779 -0.475180  0.354901  0.351514  0.643559  0.038660"
      ]
     },
     "execution_count": 25,
     "metadata": {},
     "output_type": "execute_result"
    }
   ],
   "source": [
    "principalDf.head()"
   ]
  },
  {
   "cell_type": "code",
   "execution_count": 27,
   "metadata": {},
   "outputs": [
    {
     "data": {
      "text/plain": [
       "array([0.37036693, 0.28037748, 0.20838995, 0.04891114, 0.0301503 ,\n",
       "       0.02957917])"
      ]
     },
     "execution_count": 27,
     "metadata": {},
     "output_type": "execute_result"
    }
   ],
   "source": [
    "pca.explained_variance_ratio_"
   ]
  },
  {
   "cell_type": "code",
   "execution_count": 28,
   "metadata": {},
   "outputs": [
    {
     "data": {
      "text/plain": [
       "0.9677749619393666"
      ]
     },
     "execution_count": 28,
     "metadata": {},
     "output_type": "execute_result"
    }
   ],
   "source": [
    "sum(pca.explained_variance_ratio_)"
   ]
  },
  {
   "cell_type": "code",
   "execution_count": null,
   "metadata": {},
   "outputs": [],
   "source": [
    "abs(df.corr())"
   ]
  },
  {
   "cell_type": "code",
   "execution_count": 4,
   "metadata": {},
   "outputs": [
    {
     "data": {
      "text/html": [
       "<div>\n",
       "<style scoped>\n",
       "    .dataframe tbody tr th:only-of-type {\n",
       "        vertical-align: middle;\n",
       "    }\n",
       "\n",
       "    .dataframe tbody tr th {\n",
       "        vertical-align: top;\n",
       "    }\n",
       "\n",
       "    .dataframe thead th {\n",
       "        text-align: right;\n",
       "    }\n",
       "</style>\n",
       "<table border=\"1\" class=\"dataframe\">\n",
       "  <thead>\n",
       "    <tr style=\"text-align: right;\">\n",
       "      <th></th>\n",
       "      <th>F1</th>\n",
       "      <th>F2</th>\n",
       "      <th>F3</th>\n",
       "      <th>D1</th>\n",
       "      <th>D6</th>\n",
       "      <th>R1</th>\n",
       "    </tr>\n",
       "  </thead>\n",
       "  <tbody>\n",
       "    <tr>\n",
       "      <th>0</th>\n",
       "      <td>-0.92575</td>\n",
       "      <td>-0.34309</td>\n",
       "      <td>1</td>\n",
       "      <td>0.0</td>\n",
       "      <td>0.66667</td>\n",
       "      <td>1</td>\n",
       "    </tr>\n",
       "    <tr>\n",
       "      <th>1</th>\n",
       "      <td>-0.92575</td>\n",
       "      <td>-0.34309</td>\n",
       "      <td>1</td>\n",
       "      <td>-0.8</td>\n",
       "      <td>-0.66667</td>\n",
       "      <td>1</td>\n",
       "    </tr>\n",
       "    <tr>\n",
       "      <th>2</th>\n",
       "      <td>-0.90100</td>\n",
       "      <td>-0.46830</td>\n",
       "      <td>1</td>\n",
       "      <td>-0.7</td>\n",
       "      <td>-0.66667</td>\n",
       "      <td>1</td>\n",
       "    </tr>\n",
       "    <tr>\n",
       "      <th>3</th>\n",
       "      <td>-0.86940</td>\n",
       "      <td>-0.57487</td>\n",
       "      <td>-1</td>\n",
       "      <td>-0.9</td>\n",
       "      <td>-0.83333</td>\n",
       "      <td>1</td>\n",
       "    </tr>\n",
       "    <tr>\n",
       "      <th>4</th>\n",
       "      <td>-0.93839</td>\n",
       "      <td>-0.25525</td>\n",
       "      <td>1</td>\n",
       "      <td>-0.4</td>\n",
       "      <td>-0.33333</td>\n",
       "      <td>1</td>\n",
       "    </tr>\n",
       "  </tbody>\n",
       "</table>\n",
       "</div>"
      ],
      "text/plain": [
       "        F1       F2  F3   D1       D6  R1\n",
       "0 -0.92575 -0.34309   1  0.0  0.66667   1\n",
       "1 -0.92575 -0.34309   1 -0.8 -0.66667   1\n",
       "2 -0.90100 -0.46830   1 -0.7 -0.66667   1\n",
       "3 -0.86940 -0.57487  -1 -0.9 -0.83333   1\n",
       "4 -0.93839 -0.25525   1 -0.4 -0.33333   1"
      ]
     },
     "execution_count": 4,
     "metadata": {},
     "output_type": "execute_result"
    }
   ],
   "source": [
    "url = \"C:/1234/x_train_response_after_pca.csv\"\n",
    "train = pd.read_csv(url, names=['F1','F2','F3','D1','D6','R1'])\n",
    "train.head()"
   ]
  },
  {
   "cell_type": "code",
   "execution_count": 5,
   "metadata": {},
   "outputs": [],
   "source": [
    "import numpy as np\n",
    "y_train=np.array(train['R1'])\n",
    "x_train=train.drop(['R1'], axis=1)\n",
    "x_train=np.array(x_train)"
   ]
  },
  {
   "cell_type": "code",
   "execution_count": 6,
   "metadata": {},
   "outputs": [],
   "source": [
    "from sklearn.model_selection import KFold"
   ]
  },
  {
   "cell_type": "code",
   "execution_count": 7,
   "metadata": {},
   "outputs": [],
   "source": [
    "kfold = KFold(n_splits=5, shuffle = True, random_state=1234)"
   ]
  },
  {
   "cell_type": "code",
   "execution_count": 8,
   "metadata": {},
   "outputs": [
    {
     "data": {
      "text/plain": [
       "SVC()"
      ]
     },
     "execution_count": 8,
     "metadata": {},
     "output_type": "execute_result"
    }
   ],
   "source": [
    "from sklearn.svm import SVC\n",
    "from sklearn.model_selection import cross_val_score, cross_validate\n",
    "\n",
    "svm_model = SVC(kernel='rbf')\n",
    "svm_model.fit(x_train, y_train)"
   ]
  },
  {
   "cell_type": "code",
   "execution_count": 16,
   "metadata": {},
   "outputs": [
    {
     "name": "stdout",
     "output_type": "stream",
     "text": [
      "[0.75369726 0.73646151 0.74728143 0.74717268 0.74706394]\n"
     ]
    }
   ],
   "source": [
    "from sklearn.model_selection import cross_val_score\n",
    "scores = cross_val_score(svm_model , x_train , y_train ,cv=kfold)\n",
    "print(scores)"
   ]
  },
  {
   "cell_type": "code",
   "execution_count": 17,
   "metadata": {},
   "outputs": [],
   "source": [
    "url = \"C:/1234/x_test_response_after_pca.csv\"\n",
    "test = pd.read_csv(url, names=['F1','F2','F3','D1','D6'])"
   ]
  },
  {
   "cell_type": "code",
   "execution_count": 18,
   "metadata": {},
   "outputs": [
    {
     "name": "stderr",
     "output_type": "stream",
     "text": [
      "c:\\Users\\hooki\\anaconda3\\lib\\site-packages\\sklearn\\base.py:443: UserWarning: X has feature names, but SVC was fitted without feature names\n",
      "  warnings.warn(\n"
     ]
    }
   ],
   "source": [
    "y_test = svm_model.predict(test)"
   ]
  },
  {
   "cell_type": "code",
   "execution_count": 13,
   "metadata": {},
   "outputs": [],
   "source": [
    "import csv"
   ]
  },
  {
   "cell_type": "code",
   "execution_count": 14,
   "metadata": {},
   "outputs": [],
   "source": [
    "y_o = pd.DataFrame(y_test)"
   ]
  },
  {
   "cell_type": "code",
   "execution_count": 15,
   "metadata": {},
   "outputs": [],
   "source": [
    "y_o.to_csv(\"C:/1234/y_test_output_after_pca.csv\")"
   ]
  },
  {
   "cell_type": "code",
   "execution_count": null,
   "metadata": {},
   "outputs": [],
   "source": []
  }
 ],
 "metadata": {
  "kernelspec": {
   "display_name": "Python 3.9.12 ('base')",
   "language": "python",
   "name": "python3"
  },
  "language_info": {
   "codemirror_mode": {
    "name": "ipython",
    "version": 3
   },
   "file_extension": ".py",
   "mimetype": "text/x-python",
   "name": "python",
   "nbconvert_exporter": "python",
   "pygments_lexer": "ipython3",
   "version": "3.9.12"
  },
  "orig_nbformat": 4,
  "vscode": {
   "interpreter": {
    "hash": "ed93b3843eefc629154aeb0fcceaf37674dde32090f9a3a96a83b00a4b89e612"
   }
  }
 },
 "nbformat": 4,
 "nbformat_minor": 2
}
